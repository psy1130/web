{
 "cells": [
  {
   "cell_type": "markdown",
   "metadata": {},
   "source": [
    "#### 6월 14일\n",
    "\n",
    "[학습 목표]\n",
    "- 파이썬 전체 리뷰\n",
    "- HTML 실습할 수 있는 프로그램 설치한다.\n",
    "- HTML 기본을 실습을 통해 알아본다.  \n",
    "(위치)03_Web기본이해_Github - unit02_html  \n",
    "- CSS에 대해 이해하고 실습을 통해 알아본다.  \n",
    "(위치) 03_Web기본이해_Github - unit03_css_javascript  \n",
    "- GitHub에 내가 만든 프로그램을 올려본다.\n",
    "\n",
    "실습 제출\n",
    "1. tkinter 개선 프로그램 GitHub에 올리고 제출\n",
    "2. 제출 메일 frontier1020@naver.com(~6/14)\n",
    "- .py 파일 / 사용한 데이터 파일 및 링크 / 개인 github Link\n",
    "\n"
   ]
  },
  {
   "cell_type": "markdown",
   "metadata": {},
   "source": [
    "# HTML\n",
    "`Document`-`GitHub`-`web`-`class01` directory\n",
    "\n",
    "## 기본 구조\n",
    "`html` tag로 전체를 묶어주고, `<head>`와 `<body>`로 구성  \n",
    "```\n",
    "<html> \n",
    "<head>\n",
    "<title> </title>\n",
    "</head>\n",
    "\n",
    "<body>\n",
    "</body>\n",
    "</html>\n",
    "\n",
    "```\n",
    "\n",
    "## tag의 종류\n",
    "1) 단락 tag \n",
    "- `<p> \"contents\" <\\p>`\n",
    "- `<pre> \"contents\" <\\pre>`  \n",
    "`p` tag가 `pre` tag보다 단락 사이의 간격이 넓다.\n",
    "\n",
    "\n",
    "2) 정보 tag\n",
    "- `<a href =\"url\"> \"contents\" <a>`\n",
    "\n",
    "3) 줄바꿈 tag\n",
    "- `<br>`\n",
    "\n",
    "4) 이미지 tag \n",
    "- `<img src=\"url\", alt=\"alternate text\", width=\"value[px]\", height=\"value[px]\"> </img>`  \n",
    "alt(대체텍스트) : 오류로 이미지 파일이 로딩되지 않았을 때 이미지에 대한 설명\n",
    "\n",
    "5) 코멘트/주석처리  \n",
    "`<!--(comments)-->` \n",
    "\n",
    "6) 제목 tag  \n",
    "1~6 적용 가능  \n",
    "`<h1 style=\"\"> </h1>`  \n",
    "`<h6 style=\"\"> </h6>`  \n",
    "style parameter : color, background-color 등\n",
    "\n",
    "\n",
    "__cf. 절대url, 상대url 및 용어 정리__\n",
    "- 절대 url : 웹사이트 상의 주소 (http://로 시작)  \n",
    "- 상대 url : 현재 디렉토리를 기준으로 파일이 있는 디렉토리의 주소  \n",
    "- 요소(element) : 한 쌍의 tag 예) `<head> </head>`\n",
    "\n",
    "## CSS \n",
    "- Cascading Style Sheets\n",
    "- 페이지의 레이아웃, 쉽게 말해 스타일을 규정하는 문서/코드\n",
    "\n",
    "#### CSS 방식\n",
    "1) inline : HTML 요소에 `style` 속성을 사용하는 것  \n",
    "(01_basic.html 문서 참고)"
   ]
  },
  {
   "cell_type": "markdown",
   "metadata": {},
   "source": [
    "<body>\n",
    "<h1 style=\"color:violet;\"> 나의 웹페이지 제목1 </h1>\n",
    "<h2 style=\"color:lightgray; background-color:rgb(255,99,71) \"> 나의 웹페이지 제목6 </h6>\n",
    "<h6 style=\"color:dodgerblue; background-color:#ff6347 \"> 나의 웹페이지 제목6 </h6>\n",
    "\n",
    "<p style=\"color:red;background-color: lightgray;\"> 단락1 </p>\n",
    "<p> 단락2 </p>\n",
    "<pre style=\"color:red;background-color:powderblue;\">\n",
    "단락1\n",
    "단락2\n",
    "</pre>"
   ]
  },
  {
   "cell_type": "markdown",
   "metadata": {},
   "source": [
    "2) internal : HTML 파일의 `<head>` 부분에 `<style>`요소를 추가한 것  \n",
    "(02_internal.html 파일 참고)"
   ]
  },
  {
   "cell_type": "markdown",
   "metadata": {},
   "source": [
    "```\n",
    "<head>\n",
    "<title> 나의 웹페이지 </title>\n",
    "<style>\n",
    "h1 {\n",
    "\tcolor: Tomato;\n",
    "}\n",
    "h6 {\n",
    "\tcolor : dodgerblue;\n",
    "}\n",
    "p {\n",
    "\tcolor: red;\n",
    "\tbackground-color: powderblue;\n",
    "}\n",
    "</style>\n",
    "</head>\n",
    "```"
   ]
  },
  {
   "cell_type": "markdown",
   "metadata": {},
   "source": [
    "3) external : 외부의 CSS 파일에 `<link>` 요소를 넣어서 연결한 것  \n",
    "(03_css.html 및 03_css.css 파일 참고)"
   ]
  },
  {
   "cell_type": "markdown",
   "metadata": {},
   "source": [
    "- html 파일 예시\n",
    "\n",
    "```\n",
    "<head>\n",
    "<title> 나의 웹페이지</title>\n",
    "<link rel=\"stylesheet\" href=\"01_03_css.css\">\n",
    "</head>\n",
    "``` \n",
    "\n",
    "- css 파일 예시\n",
    "\n",
    "```\n",
    "h1 {\n",
    "\tcolor: Tomato;\n",
    "}\n",
    "h6 {\n",
    "\tcolor : dodgerblue;\n",
    "}\n",
    "p {\n",
    "\tcolor: red;\n",
    "\tbackground-color: powderblue;\n",
    "}\n",
    "```\n"
   ]
  },
  {
   "cell_type": "markdown",
   "metadata": {},
   "source": [
    "__Q. 단락별로 따로 스타일을 지정하려면 어떻게 할까?__  \n",
    "A. `style` tag를 정의할 때 `#`을 사용한다.  \n",
    "04_css.html 및 04_css.css 파일 참고\n",
    "\n",
    "\n",
    "- (external) css 파일 예시 \n",
    "\n",
    "```\n",
    "# p1{\n",
    "\tcolor: green;\n",
    "}\n",
    "# p2{\n",
    "\tcolor: red;\n",
    "}\n",
    "# p3{\n",
    "\tcolor: blue;  \n",
    "}\n",
    "```\n",
    "\n",
    "- html 파일 예시\n",
    "\n",
    "```\n",
    "<head>\n",
    "<title> 나의 웹페이지</title>\n",
    "<link rel=\"stylesheet\" href=\"01_04_css.css\">\n",
    "</head>\n",
    "```"
   ]
  },
  {
   "cell_type": "markdown",
   "metadata": {},
   "source": [
    "## Link\n",
    "\n",
    "`<a>` tag에서 하이퍼링크를 정의한다. (05_target.html 파일 참고)    \n",
    "\n",
    "```\n",
    "<a href=\"https://www.w3schools.com/\">Visit W3Schools.com!</a>\n",
    "```\n",
    "\n",
    "### Link - taget 의 속성\n",
    "- `_self` : 클릭한 동일한 창/탭에서 링크를 엽니다.\n",
    "- `_blank` : 새로운 창/탭에서 링크를 엽니다.\n",
    "- `_parent` : 상위 프레임에서 링크를 엽니다. \n",
    "- `_top` : 창 전체에서 문서를 엽니다. \n",
    "\n",
    "*??? self와 parent, top의 차이가 뭔지 모르겠다... 일단 self와 blank 위주로 사용할 듯하다*"
   ]
  },
  {
   "cell_type": "markdown",
   "metadata": {},
   "source": [
    "table은 속성도 많고 그래서.. 공부할게 많은 것 같다...\n",
    "\n",
    "## TABLE \n",
    "\n",
    "- th : 행 tag\n",
    "- th : 제목 (bold&centered 처리됨)\n",
    "- td : 데이터 (regular&left-alligned 처리됨)\n",
    "\n",
    "\n",
    "### style\n",
    "\n",
    "[링크](https://www.w3schools.com/cssref/playit.asp?filename=playcss_border-style&preval=solid)"
   ]
  },
  {
   "cell_type": "markdown",
   "metadata": {},
   "source": [
    "## List\n",
    "(07_list.html 파일 참고)\n",
    "1) 순서가 <U>있는</U> 리스트 \"Ordered List\"\n",
    "\n",
    "```\n",
    "<ol>\n",
    "    <li> 항목1 </li>\n",
    "    <li> 항목2 </li>\n",
    "</ol>\n",
    "```\n",
    "\n",
    "2) 순서가 <U>없는</U> 리스트 \"Unordered List\"\n",
    "\n",
    "```\n",
    "<ul>\n",
    "    <li> 항목1 </li>\n",
    "    <li> 항목2 </li>\n",
    "</ul>\n",
    "```\n",
    "\n",
    "3) <U>설명</U>을 포함한 리스트 \"Description List\"  \n",
    "(dt : define a term, dd : describe the term) \n",
    "\n",
    "```\n",
    "<dl>\n",
    "    <dt> 항목1 </dt>\n",
    "    <dd> 항목1에 대한 설명 </dd>\n",
    "    <dt> 항목2 </dt>\n",
    "    <dd> 항목2에 대한 설명 </dd>\n",
    "</dl>\n",
    "```\n"
   ]
  },
  {
   "cell_type": "markdown",
   "metadata": {},
   "source": [
    "## 웹에서 데이터 가져오기\n",
    "\n",
    "- `urlopen` : 웹에 정보를 요청\n",
    "- `BeautifulSoup` : 요청한 데이터를 재구조화 시킴"
   ]
  },
  {
   "cell_type": "code",
   "execution_count": 27,
   "metadata": {},
   "outputs": [
    {
     "data": {
      "text/plain": [
       "['ConnectTimeout',\n",
       " 'ConnectionError',\n",
       " 'DependencyWarning',\n",
       " 'FileModeWarning',\n",
       " 'HTTPError',\n",
       " 'NullHandler',\n",
       " 'PreparedRequest',\n",
       " 'ReadTimeout',\n",
       " 'Request',\n",
       " 'RequestException',\n",
       " 'RequestsDependencyWarning',\n",
       " 'Response',\n",
       " 'Session',\n",
       " 'Timeout',\n",
       " 'TooManyRedirects',\n",
       " 'URLRequired',\n",
       " '__author__',\n",
       " '__author_email__',\n",
       " '__build__',\n",
       " '__builtins__',\n",
       " '__cached__',\n",
       " '__cake__',\n",
       " '__copyright__',\n",
       " '__description__',\n",
       " '__doc__',\n",
       " '__file__',\n",
       " '__license__',\n",
       " '__loader__',\n",
       " '__name__',\n",
       " '__package__',\n",
       " '__path__',\n",
       " '__spec__',\n",
       " '__title__',\n",
       " '__url__',\n",
       " '__version__',\n",
       " '_check_cryptography',\n",
       " '_internal_utils',\n",
       " 'adapters',\n",
       " 'api',\n",
       " 'auth',\n",
       " 'certs',\n",
       " 'chardet',\n",
       " 'check_compatibility',\n",
       " 'codes',\n",
       " 'compat',\n",
       " 'cookies',\n",
       " 'delete',\n",
       " 'exceptions',\n",
       " 'get',\n",
       " 'head',\n",
       " 'hooks',\n",
       " 'logging',\n",
       " 'models',\n",
       " 'options',\n",
       " 'packages',\n",
       " 'patch',\n",
       " 'post',\n",
       " 'put',\n",
       " 'request',\n",
       " 'session',\n",
       " 'sessions',\n",
       " 'ssl',\n",
       " 'status_codes',\n",
       " 'structures',\n",
       " 'urllib3',\n",
       " 'utils',\n",
       " 'warnings']"
      ]
     },
     "execution_count": 27,
     "metadata": {},
     "output_type": "execute_result"
    }
   ],
   "source": [
    "import requests\n",
    "dir(requests)"
   ]
  },
  {
   "cell_type": "code",
   "execution_count": 4,
   "metadata": {},
   "outputs": [
    {
     "data": {
      "text/plain": [
       "bs4.BeautifulSoup"
      ]
     },
     "execution_count": 4,
     "metadata": {},
     "output_type": "execute_result"
    }
   ],
   "source": [
    "from urllib.request import urlopen\n",
    "from bs4 import BeautifulSoup\n",
    "\n",
    "url = 'https://finance.naver.com/sise/'\n",
    "page = urlopen(url)\n",
    "soup = BeautifulSoup(page, 'html.parser')\n",
    "type(soup)\n"
   ]
  },
  {
   "cell_type": "markdown",
   "metadata": {},
   "source": [
    "BeautifulSoup 구조의 데이터에서 id를 이용해서 정보를 가져올 수 있다.  \n",
    "예) 코스피 지수를 가져올 때  \n",
    "    - tag : span  \n",
    "    - id : KOSPI_now  "
   ]
  },
  {
   "cell_type": "code",
   "execution_count": 12,
   "metadata": {},
   "outputs": [
    {
     "name": "stdout",
     "output_type": "stream",
     "text": [
      "현재 코스피 지수 : 3,251.29\n"
     ]
    }
   ],
   "source": [
    "kospi = soup.find(\"span\", id=\"KOSPI_now\").text\n",
    "print(\"현재 코스피 지수 :\",kospi)"
   ]
  },
  {
   "cell_type": "code",
   "execution_count": 14,
   "metadata": {},
   "outputs": [
    {
     "name": "stdout",
     "output_type": "stream",
     "text": [
      "현재 코스피 지수 : 433.14\n"
     ]
    }
   ],
   "source": [
    "kpi200 = soup.find(\"span\", id=\"KPI200_now\").text\n",
    "print(\"현재 코스피 지수 :\",kpi200)"
   ]
  },
  {
   "cell_type": "code",
   "execution_count": 11,
   "metadata": {},
   "outputs": [
    {
     "name": "stdout",
     "output_type": "stream",
     "text": [
      "현재 코스닥 지수 : 997.09\n"
     ]
    }
   ],
   "source": [
    "kosdaq = soup.find(\"span\", id=\"KOSDAQ_now\").text\n",
    "print(\"현재 코스닥 지수 :\",kosdaq)"
   ]
  },
  {
   "cell_type": "markdown",
   "metadata": {},
   "source": [
    "#### 프로그램 매매동향 추가정보 가져오기"
   ]
  },
  {
   "cell_type": "code",
   "execution_count": 26,
   "metadata": {
    "scrolled": true
   },
   "outputs": [
    {
     "name": "stdout",
     "output_type": "stream",
     "text": [
      "\n",
      "프로그램 매매동향\n",
      "\n",
      "차익\n",
      "-200억\n",
      "\n",
      "\n",
      "비차익\n",
      "-984억\n",
      "\n",
      "\n",
      "전체\n",
      "-1,184억\n",
      "\n",
      "\n"
     ]
    }
   ],
   "source": [
    "info = soup.find(\"dl\", id=\"basis_trend\").text\n",
    "print(info)"
   ]
  },
  {
   "cell_type": "code",
   "execution_count": 37,
   "metadata": {},
   "outputs": [
    {
     "name": "stdout",
     "output_type": "stream",
     "text": [
      " 차익 -100억 \n",
      " 비차익 -817억 \n",
      " 전체 -917억 \n"
     ]
    }
   ],
   "source": [
    "# code by djlim\n",
    "soup_p = soup.find(\"div\", id='tab_sel3_risefall').find(\"dd\", class_=\"profit\").text\n",
    "print( soup_p.replace(\"\\n\", \" \") )\n",
    "soup_p = soup.find(\"div\", id='tab_sel3_risefall').find(\"dd\", class_=\"loss\").text\n",
    "print( soup_p.replace(\"\\n\", \" \") )\n",
    "soup_p = soup.find(\"div\", id='tab_sel3_risefall').find(\"dd\", class_=\"total\").text\n",
    "print( soup_p.replace(\"\\n\", \" \") )"
   ]
  },
  {
   "cell_type": "markdown",
   "metadata": {},
   "source": [
    "*cf. trend가 코스피 코스닥 코스피200별로 다른데, 코스피200의 경우에만 basis_trend라는 id가 있습니다.  \n",
    "basis_trend라는 걸 검색하시면 최소 3개가 나와야지 정상인데, 2개만 나오시는걸 보면 짐작하실 수 있어요.   \n",
    "(comments by 이성준)*"
   ]
  },
  {
   "cell_type": "markdown",
   "metadata": {},
   "source": [
    "#### requests vs urllib.request  [링크](https://moondol-ai.tistory.com/238)\n",
    "- requests :\n",
    "데이터를 보낼 때 딕셔너리 형태로 송출하고, 없는 페이지를 요청해도 에러를 띄우지 않는다.  \n",
    "- urllib.request :\n",
    "데이터를 보낼 때 인코딩하여 바이너리 형태로 송출하고, 없는 페이지를 요청하면 에러를 띄운다.\n"
   ]
  },
  {
   "cell_type": "code",
   "execution_count": null,
   "metadata": {},
   "outputs": [],
   "source": []
  }
 ],
 "metadata": {
  "kernelspec": {
   "display_name": "Python 3",
   "language": "python",
   "name": "python3"
  },
  "language_info": {
   "codemirror_mode": {
    "name": "ipython",
    "version": 3
   },
   "file_extension": ".py",
   "mimetype": "text/x-python",
   "name": "python",
   "nbconvert_exporter": "python",
   "pygments_lexer": "ipython3",
   "version": "3.8.5"
  }
 },
 "nbformat": 4,
 "nbformat_minor": 4
}
